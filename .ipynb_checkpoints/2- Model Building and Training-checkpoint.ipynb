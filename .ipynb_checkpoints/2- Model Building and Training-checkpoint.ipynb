{
 "cells": [
  {
   "cell_type": "code",
   "execution_count": 10,
   "metadata": {},
   "outputs": [],
   "source": [
    "import numpy as np \n",
    "import pandas as pd\n",
    "import tensorflow as tf\n",
    "import matplotlib.pyplot as plt\n",
    "\n",
    "from tensorflow.keras.optimizers import RMSprop"
   ]
  },
  {
   "cell_type": "markdown",
   "metadata": {},
   "source": [
    "# Loading Pre-Processed Data"
   ]
  },
  {
   "cell_type": "code",
   "execution_count": 4,
   "metadata": {},
   "outputs": [],
   "source": [
    "training_images = np.load('training_images.npy')\n",
    "training_labels = np.load('training_labels.npy')\n",
    "\n",
    "validation_images = np.load('validation_images.npy')\n",
    "validation_labels = np.load('validation_labels.npy')"
   ]
  },
  {
   "cell_type": "markdown",
   "metadata": {},
   "source": [
    "# Building the model"
   ]
  },
  {
   "cell_type": "markdown",
   "metadata": {},
   "source": [
    "Lenet 5"
   ]
  },
  {
   "cell_type": "code",
   "execution_count": 5,
   "metadata": {},
   "outputs": [
    {
     "name": "stdout",
     "output_type": "stream",
     "text": [
      "Model: \"sequential\"\n",
      "_________________________________________________________________\n",
      "Layer (type)                 Output Shape              Param #   \n",
      "=================================================================\n",
      "conv2d (Conv2D)              (None, 28, 28, 6)         156       \n",
      "_________________________________________________________________\n",
      "max_pooling2d (MaxPooling2D) (None, 14, 14, 6)         0         \n",
      "_________________________________________________________________\n",
      "conv2d_1 (Conv2D)            (None, 10, 10, 16)        2416      \n",
      "_________________________________________________________________\n",
      "max_pooling2d_1 (MaxPooling2 (None, 5, 5, 16)          0         \n",
      "_________________________________________________________________\n",
      "conv2d_2 (Conv2D)            (None, 1, 1, 120)         48120     \n",
      "_________________________________________________________________\n",
      "dense (Dense)                (None, 1, 1, 84)          10164     \n",
      "_________________________________________________________________\n",
      "dense_1 (Dense)              (None, 1, 1, 10)          850       \n",
      "=================================================================\n",
      "Total params: 61,706\n",
      "Trainable params: 61,706\n",
      "Non-trainable params: 0\n",
      "_________________________________________________________________\n"
     ]
    }
   ],
   "source": [
    "\n",
    "model = tf.keras.models.Sequential([\n",
    "            tf.keras.layers.Conv2D(filters = 6, kernel_size = (5,5), activation='relu', input_shape=(32, 32, 1)),\n",
    "            tf.keras.layers.MaxPooling2D(pool_size=(2, 2), strides=2),\n",
    "            tf.keras.layers.Conv2D(filters = 16, kernel_size = (5,5), activation='relu', input_shape=(14, 14, 6)),\n",
    "            tf.keras.layers.MaxPooling2D(pool_size=(2, 2), strides=2),\n",
    "            tf.keras.layers.Conv2D(filters = 120, kernel_size = (5,5), activation='relu', input_shape=(5 ,5 ,16)),\n",
    "            tf.keras.layers.Dense(84, activation=tf.nn.relu),\n",
    "            tf.keras.layers.Dense(10, activation=tf.nn.softmax)\n",
    "    ])\n",
    "\n",
    "model.compile(optimizer = tf.keras.optimizers.Adam(lr=1e-4), loss='categorical_crossentropy', metrics=['accuracy'])\n",
    "\n",
    "model.summary()"
   ]
  },
  {
   "cell_type": "code",
   "execution_count": 6,
   "metadata": {},
   "outputs": [],
   "source": [
    "\n",
    "datagen = tf.keras.preprocessing.image.ImageDataGenerator(zoom_range = 0.1,\n",
    "                            height_shift_range = 0.1,\n",
    "                            width_shift_range = 0.1,\n",
    "                            rotation_range = 10)"
   ]
  },
  {
   "cell_type": "code",
   "execution_count": 7,
   "metadata": {},
   "outputs": [],
   "source": [
    "\n",
    "annealer = tf.keras.callbacks.LearningRateScheduler(lambda x: 1e-3 * 0.9 ** x)"
   ]
  },
  {
   "cell_type": "code",
   "execution_count": 8,
   "metadata": {},
   "outputs": [
    {
     "name": "stdout",
     "output_type": "stream",
     "text": [
      "Epoch 1/100\n",
      "500/500 - 16s - loss: 0.8714 - accuracy: 0.7103 - val_loss: 0.1786 - val_accuracy: 0.9493\n",
      "Epoch 2/100\n",
      "500/500 - 15s - loss: 0.3070 - accuracy: 0.9056 - val_loss: 0.1329 - val_accuracy: 0.9595\n",
      "Epoch 3/100\n",
      "500/500 - 17s - loss: 0.2344 - accuracy: 0.9285 - val_loss: 0.1140 - val_accuracy: 0.9642\n",
      "Epoch 4/100\n",
      "500/500 - 17s - loss: 0.1980 - accuracy: 0.9410 - val_loss: 0.1268 - val_accuracy: 0.9604\n",
      "Epoch 5/100\n",
      "500/500 - 17s - loss: 0.1718 - accuracy: 0.9465 - val_loss: 0.1095 - val_accuracy: 0.9643\n",
      "Epoch 6/100\n",
      "500/500 - 19s - loss: 0.1588 - accuracy: 0.9511 - val_loss: 0.0871 - val_accuracy: 0.9738\n",
      "Epoch 7/100\n",
      "500/500 - 17s - loss: 0.1487 - accuracy: 0.9538 - val_loss: 0.0724 - val_accuracy: 0.9761\n",
      "Epoch 8/100\n",
      "500/500 - 18s - loss: 0.1322 - accuracy: 0.9595 - val_loss: 0.0704 - val_accuracy: 0.9774\n",
      "Epoch 9/100\n",
      "500/500 - 17s - loss: 0.1210 - accuracy: 0.9622 - val_loss: 0.0596 - val_accuracy: 0.9805\n",
      "Epoch 10/100\n",
      "500/500 - 17s - loss: 0.1118 - accuracy: 0.9654 - val_loss: 0.0678 - val_accuracy: 0.9768\n",
      "Epoch 11/100\n",
      "500/500 - 17s - loss: 0.1058 - accuracy: 0.9676 - val_loss: 0.0630 - val_accuracy: 0.9801\n",
      "Epoch 12/100\n",
      "500/500 - 16s - loss: 0.1114 - accuracy: 0.9656 - val_loss: 0.0568 - val_accuracy: 0.9824\n",
      "Epoch 13/100\n",
      "500/500 - 17s - loss: 0.1030 - accuracy: 0.9681 - val_loss: 0.0580 - val_accuracy: 0.9823\n",
      "Epoch 14/100\n",
      "500/500 - 17s - loss: 0.0875 - accuracy: 0.9745 - val_loss: 0.0612 - val_accuracy: 0.9799\n",
      "Epoch 15/100\n",
      "500/500 - 18s - loss: 0.0932 - accuracy: 0.9721 - val_loss: 0.0513 - val_accuracy: 0.9855\n",
      "Epoch 16/100\n",
      "500/500 - 17s - loss: 0.0830 - accuracy: 0.9731 - val_loss: 0.0512 - val_accuracy: 0.9835\n",
      "Epoch 17/100\n",
      "500/500 - 16s - loss: 0.0839 - accuracy: 0.9740 - val_loss: 0.0473 - val_accuracy: 0.9854\n",
      "Epoch 18/100\n",
      "500/500 - 17s - loss: 0.0846 - accuracy: 0.9724 - val_loss: 0.0496 - val_accuracy: 0.9850\n",
      "Epoch 19/100\n",
      "500/500 - 19s - loss: 0.0781 - accuracy: 0.9759 - val_loss: 0.0444 - val_accuracy: 0.9867\n",
      "Epoch 20/100\n",
      "500/500 - 18s - loss: 0.0798 - accuracy: 0.9746 - val_loss: 0.0466 - val_accuracy: 0.9852\n",
      "Epoch 21/100\n",
      "500/500 - 16s - loss: 0.0767 - accuracy: 0.9737 - val_loss: 0.0427 - val_accuracy: 0.9869\n",
      "Epoch 22/100\n",
      "500/500 - 17s - loss: 0.0670 - accuracy: 0.9796 - val_loss: 0.0420 - val_accuracy: 0.9882\n",
      "Epoch 23/100\n",
      "500/500 - 17s - loss: 0.0708 - accuracy: 0.9786 - val_loss: 0.0413 - val_accuracy: 0.9869\n",
      "Epoch 24/100\n",
      "500/500 - 18s - loss: 0.0757 - accuracy: 0.9756 - val_loss: 0.0440 - val_accuracy: 0.9875\n",
      "Epoch 25/100\n",
      "500/500 - 18s - loss: 0.0643 - accuracy: 0.9791 - val_loss: 0.0408 - val_accuracy: 0.9881\n",
      "Epoch 26/100\n",
      "500/500 - 17s - loss: 0.0655 - accuracy: 0.9794 - val_loss: 0.0411 - val_accuracy: 0.9885\n",
      "Epoch 27/100\n",
      "500/500 - 17s - loss: 0.0667 - accuracy: 0.9793 - val_loss: 0.0423 - val_accuracy: 0.9873\n",
      "Epoch 28/100\n",
      "500/500 - 17s - loss: 0.0658 - accuracy: 0.9812 - val_loss: 0.0446 - val_accuracy: 0.9861\n",
      "Epoch 29/100\n",
      "500/500 - 17s - loss: 0.0707 - accuracy: 0.9787 - val_loss: 0.0401 - val_accuracy: 0.9882\n",
      "Epoch 30/100\n",
      "500/500 - 17s - loss: 0.0642 - accuracy: 0.9796 - val_loss: 0.0428 - val_accuracy: 0.9865\n",
      "Epoch 31/100\n",
      "500/500 - 17s - loss: 0.0621 - accuracy: 0.9814 - val_loss: 0.0405 - val_accuracy: 0.9887\n",
      "Epoch 32/100\n",
      "500/500 - 18s - loss: 0.0635 - accuracy: 0.9801 - val_loss: 0.0383 - val_accuracy: 0.9892\n",
      "Epoch 33/100\n",
      "500/500 - 16s - loss: 0.0646 - accuracy: 0.9805 - val_loss: 0.0392 - val_accuracy: 0.9893\n",
      "Epoch 34/100\n",
      "500/500 - 17s - loss: 0.0615 - accuracy: 0.9825 - val_loss: 0.0390 - val_accuracy: 0.9885\n",
      "Epoch 35/100\n",
      "500/500 - 16s - loss: 0.0601 - accuracy: 0.9818 - val_loss: 0.0379 - val_accuracy: 0.9895\n",
      "Epoch 36/100\n",
      "500/500 - 19s - loss: 0.0610 - accuracy: 0.9805 - val_loss: 0.0397 - val_accuracy: 0.9877\n",
      "Epoch 37/100\n",
      "500/500 - 17s - loss: 0.0572 - accuracy: 0.9820 - val_loss: 0.0384 - val_accuracy: 0.9889\n",
      "Epoch 38/100\n",
      "500/500 - 17s - loss: 0.0546 - accuracy: 0.9822 - val_loss: 0.0389 - val_accuracy: 0.9880\n",
      "Epoch 39/100\n",
      "500/500 - 16s - loss: 0.0597 - accuracy: 0.9809 - val_loss: 0.0383 - val_accuracy: 0.9883\n",
      "Epoch 40/100\n",
      "500/500 - 17s - loss: 0.0584 - accuracy: 0.9815 - val_loss: 0.0387 - val_accuracy: 0.9881\n",
      "Epoch 41/100\n",
      "500/500 - 17s - loss: 0.0660 - accuracy: 0.9800 - val_loss: 0.0393 - val_accuracy: 0.9889\n",
      "Epoch 42/100\n",
      "500/500 - 16s - loss: 0.0596 - accuracy: 0.9814 - val_loss: 0.0380 - val_accuracy: 0.9888\n",
      "Epoch 43/100\n",
      "500/500 - 17s - loss: 0.0529 - accuracy: 0.9824 - val_loss: 0.0388 - val_accuracy: 0.9883\n",
      "Epoch 44/100\n",
      "500/500 - 17s - loss: 0.0597 - accuracy: 0.9810 - val_loss: 0.0370 - val_accuracy: 0.9894\n",
      "Epoch 45/100\n",
      "500/500 - 17s - loss: 0.0637 - accuracy: 0.9818 - val_loss: 0.0374 - val_accuracy: 0.9892\n",
      "Epoch 46/100\n",
      "500/500 - 17s - loss: 0.0567 - accuracy: 0.9830 - val_loss: 0.0376 - val_accuracy: 0.9888\n",
      "Epoch 47/100\n",
      "500/500 - 17s - loss: 0.0551 - accuracy: 0.9827 - val_loss: 0.0378 - val_accuracy: 0.9892\n",
      "Epoch 48/100\n",
      "500/500 - 17s - loss: 0.0612 - accuracy: 0.9820 - val_loss: 0.0373 - val_accuracy: 0.9893\n",
      "Epoch 49/100\n",
      "500/500 - 16s - loss: 0.0614 - accuracy: 0.9799 - val_loss: 0.0374 - val_accuracy: 0.9892\n",
      "Epoch 50/100\n",
      "500/500 - 16s - loss: 0.0582 - accuracy: 0.9814 - val_loss: 0.0374 - val_accuracy: 0.9888\n",
      "Epoch 51/100\n",
      "500/500 - 17s - loss: 0.0588 - accuracy: 0.9826 - val_loss: 0.0376 - val_accuracy: 0.9886\n",
      "Epoch 52/100\n",
      "500/500 - 16s - loss: 0.0623 - accuracy: 0.9808 - val_loss: 0.0373 - val_accuracy: 0.9892\n",
      "Epoch 53/100\n",
      "500/500 - 17s - loss: 0.0559 - accuracy: 0.9820 - val_loss: 0.0372 - val_accuracy: 0.9892\n",
      "Epoch 54/100\n",
      "500/500 - 17s - loss: 0.0500 - accuracy: 0.9834 - val_loss: 0.0372 - val_accuracy: 0.9895\n",
      "Epoch 55/100\n",
      "500/500 - 16s - loss: 0.0554 - accuracy: 0.9827 - val_loss: 0.0374 - val_accuracy: 0.9893\n",
      "Epoch 56/100\n",
      "500/500 - 16s - loss: 0.0585 - accuracy: 0.9801 - val_loss: 0.0373 - val_accuracy: 0.9892\n",
      "Epoch 57/100\n",
      "500/500 - 16s - loss: 0.0563 - accuracy: 0.9805 - val_loss: 0.0376 - val_accuracy: 0.9886\n",
      "Epoch 58/100\n",
      "500/500 - 16s - loss: 0.0575 - accuracy: 0.9825 - val_loss: 0.0374 - val_accuracy: 0.9892\n",
      "Epoch 59/100\n",
      "500/500 - 16s - loss: 0.0546 - accuracy: 0.9825 - val_loss: 0.0375 - val_accuracy: 0.9892\n",
      "Epoch 60/100\n",
      "500/500 - 16s - loss: 0.0608 - accuracy: 0.9812 - val_loss: 0.0375 - val_accuracy: 0.9887\n",
      "Epoch 61/100\n",
      "500/500 - 16s - loss: 0.0517 - accuracy: 0.9840 - val_loss: 0.0374 - val_accuracy: 0.9889\n",
      "Epoch 62/100\n",
      "500/500 - 16s - loss: 0.0605 - accuracy: 0.9806 - val_loss: 0.0374 - val_accuracy: 0.9889\n",
      "Epoch 63/100\n",
      "500/500 - 16s - loss: 0.0586 - accuracy: 0.9822 - val_loss: 0.0374 - val_accuracy: 0.9893\n",
      "Epoch 64/100\n",
      "500/500 - 16s - loss: 0.0536 - accuracy: 0.9829 - val_loss: 0.0374 - val_accuracy: 0.9892\n",
      "Epoch 65/100\n",
      "500/500 - 16s - loss: 0.0584 - accuracy: 0.9822 - val_loss: 0.0374 - val_accuracy: 0.9894\n",
      "Epoch 66/100\n",
      "500/500 - 16s - loss: 0.0628 - accuracy: 0.9801 - val_loss: 0.0375 - val_accuracy: 0.9890\n",
      "Epoch 67/100\n",
      "500/500 - 16s - loss: 0.0524 - accuracy: 0.9837 - val_loss: 0.0374 - val_accuracy: 0.9892\n",
      "Epoch 68/100\n",
      "500/500 - 16s - loss: 0.0527 - accuracy: 0.9856 - val_loss: 0.0374 - val_accuracy: 0.9890\n",
      "Epoch 69/100\n",
      "500/500 - 16s - loss: 0.0689 - accuracy: 0.9795 - val_loss: 0.0374 - val_accuracy: 0.9890\n",
      "Epoch 70/100\n",
      "500/500 - 16s - loss: 0.0553 - accuracy: 0.9830 - val_loss: 0.0375 - val_accuracy: 0.9889\n",
      "Epoch 71/100\n",
      "500/500 - 16s - loss: 0.0571 - accuracy: 0.9825 - val_loss: 0.0375 - val_accuracy: 0.9890\n",
      "Epoch 72/100\n",
      "500/500 - 17s - loss: 0.0589 - accuracy: 0.9815 - val_loss: 0.0374 - val_accuracy: 0.9890\n",
      "Epoch 73/100\n",
      "500/500 - 16s - loss: 0.0581 - accuracy: 0.9835 - val_loss: 0.0374 - val_accuracy: 0.9892\n",
      "Epoch 74/100\n",
      "500/500 - 16s - loss: 0.0539 - accuracy: 0.9825 - val_loss: 0.0374 - val_accuracy: 0.9892\n",
      "Epoch 75/100\n",
      "500/500 - 16s - loss: 0.0623 - accuracy: 0.9799 - val_loss: 0.0374 - val_accuracy: 0.9893\n",
      "Epoch 76/100\n",
      "500/500 - 16s - loss: 0.0570 - accuracy: 0.9819 - val_loss: 0.0374 - val_accuracy: 0.9893\n",
      "Epoch 77/100\n",
      "500/500 - 16s - loss: 0.0537 - accuracy: 0.9822 - val_loss: 0.0374 - val_accuracy: 0.9894\n",
      "Epoch 78/100\n",
      "500/500 - 16s - loss: 0.0583 - accuracy: 0.9799 - val_loss: 0.0374 - val_accuracy: 0.9894\n",
      "Epoch 79/100\n",
      "500/500 - 16s - loss: 0.0606 - accuracy: 0.9818 - val_loss: 0.0374 - val_accuracy: 0.9895\n",
      "Epoch 80/100\n",
      "500/500 - 16s - loss: 0.0559 - accuracy: 0.9822 - val_loss: 0.0374 - val_accuracy: 0.9895\n"
     ]
    },
    {
     "name": "stdout",
     "output_type": "stream",
     "text": [
      "Epoch 81/100\n",
      "500/500 - 16s - loss: 0.0561 - accuracy: 0.9812 - val_loss: 0.0374 - val_accuracy: 0.9895\n",
      "Epoch 82/100\n",
      "500/500 - 16s - loss: 0.0584 - accuracy: 0.9808 - val_loss: 0.0374 - val_accuracy: 0.9895\n",
      "Epoch 83/100\n",
      "500/500 - 16s - loss: 0.0578 - accuracy: 0.9808 - val_loss: 0.0374 - val_accuracy: 0.9894\n",
      "Epoch 84/100\n",
      "500/500 - 16s - loss: 0.0596 - accuracy: 0.9820 - val_loss: 0.0373 - val_accuracy: 0.9894\n",
      "Epoch 85/100\n",
      "500/500 - 16s - loss: 0.0562 - accuracy: 0.9815 - val_loss: 0.0374 - val_accuracy: 0.9894\n",
      "Epoch 86/100\n",
      "500/500 - 16s - loss: 0.0490 - accuracy: 0.9827 - val_loss: 0.0373 - val_accuracy: 0.9894\n",
      "Epoch 87/100\n",
      "500/500 - 16s - loss: 0.0639 - accuracy: 0.9808 - val_loss: 0.0374 - val_accuracy: 0.9895\n",
      "Epoch 88/100\n",
      "500/500 - 16s - loss: 0.0576 - accuracy: 0.9819 - val_loss: 0.0374 - val_accuracy: 0.9894\n",
      "Epoch 89/100\n",
      "500/500 - 16s - loss: 0.0583 - accuracy: 0.9826 - val_loss: 0.0374 - val_accuracy: 0.9894\n",
      "Epoch 90/100\n",
      "500/500 - 16s - loss: 0.0601 - accuracy: 0.9805 - val_loss: 0.0374 - val_accuracy: 0.9894\n",
      "Epoch 91/100\n",
      "500/500 - 16s - loss: 0.0604 - accuracy: 0.9816 - val_loss: 0.0374 - val_accuracy: 0.9894\n",
      "Epoch 92/100\n",
      "500/500 - 16s - loss: 0.0590 - accuracy: 0.9819 - val_loss: 0.0374 - val_accuracy: 0.9894\n",
      "Epoch 93/100\n",
      "500/500 - 16s - loss: 0.0611 - accuracy: 0.9801 - val_loss: 0.0374 - val_accuracy: 0.9894\n",
      "Epoch 94/100\n",
      "500/500 - 16s - loss: 0.0598 - accuracy: 0.9827 - val_loss: 0.0374 - val_accuracy: 0.9894\n",
      "Epoch 95/100\n",
      "500/500 - 16s - loss: 0.0561 - accuracy: 0.9825 - val_loss: 0.0374 - val_accuracy: 0.9894\n",
      "Epoch 96/100\n",
      "500/500 - 16s - loss: 0.0532 - accuracy: 0.9829 - val_loss: 0.0374 - val_accuracy: 0.9894\n",
      "Epoch 97/100\n",
      "500/500 - 16s - loss: 0.0522 - accuracy: 0.9841 - val_loss: 0.0374 - val_accuracy: 0.9894\n",
      "Epoch 98/100\n",
      "500/500 - 16s - loss: 0.0641 - accuracy: 0.9809 - val_loss: 0.0374 - val_accuracy: 0.9894\n",
      "Epoch 99/100\n",
      "500/500 - 16s - loss: 0.0566 - accuracy: 0.9830 - val_loss: 0.0374 - val_accuracy: 0.9894\n",
      "Epoch 100/100\n",
      "500/500 - 16s - loss: 0.0596 - accuracy: 0.9818 - val_loss: 0.0374 - val_accuracy: 0.9894\n"
     ]
    }
   ],
   "source": [
    "\n",
    "history = model.fit_generator(datagen.flow(training_images, training_labels, batch_size=16),\n",
    "                           steps_per_epoch=500,\n",
    "                           epochs=100, \n",
    "                           verbose=2,  \n",
    "                           validation_data=(validation_images,validation_labels), \n",
    "                           callbacks=[annealer])"
   ]
  },
  {
   "cell_type": "markdown",
   "metadata": {},
   "source": [
    "# Evaluating our Model"
   ]
  },
  {
   "cell_type": "code",
   "execution_count": 11,
   "metadata": {},
   "outputs": [
    {
     "data": {
      "image/png": "[encoded data removed]",
      "text/plain": [
       "<Figure size 432x288 with 1 Axes>"
      ]
     },
     "metadata": {
      "needs_background": "light"
     },
     "output_type": "display_data"
    },
    {
     "data": {
      "image/png": "[encoded data removed]",
      "text/plain": [
       "<Figure size 432x288 with 1 Axes>"
      ]
     },
     "metadata": {
      "needs_background": "light"
     },
     "output_type": "display_data"
    }
   ],
   "source": [
    "plt.plot(history.history['accuracy'])\n",
    "plt.plot(history.history['val_accuracy'])\n",
    "plt.title('model accuracy')\n",
    "plt.ylabel('accuracy')\n",
    "plt.xlabel('epoch')\n",
    "plt.legend(['train', 'test'], loc='upper left')\n",
    "plt.show()\n",
    "# summarize history for loss\n",
    "plt.plot(history.history['loss'])\n",
    "plt.plot(history.history['val_loss'])\n",
    "plt.title('model loss')\n",
    "plt.ylabel('loss')\n",
    "plt.xlabel('epoch')\n",
    "plt.legend(['train', 'test'], loc='upper left')\n",
    "plt.show()"
   ]
  },
  {
   "cell_type": "markdown",
   "metadata": {},
   "source": [
    "# Predicting some previously Unseen Digits"
   ]
  },
  {
   "cell_type": "code",
   "execution_count": null,
   "metadata": {},
   "outputs": [],
   "source": []
  }
 ],
 "metadata": {
  "kernelspec": {
   "display_name": "Python 3",
   "language": "python",
   "name": "python3"
  },
  "language_info": {
   "codemirror_mode": {
    "name": "ipython",
    "version": 3
   },
   "file_extension": ".py",
   "mimetype": "text/x-python",
   "name": "python",
   "nbconvert_exporter": "python",
   "pygments_lexer": "ipython3",
   "version": "3.6.8"
  }
 },
 "nbformat": 4,
 "nbformat_minor": 4
}
