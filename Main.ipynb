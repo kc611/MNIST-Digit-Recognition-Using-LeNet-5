{
 "cells": [
  {
   "cell_type": "code",
   "execution_count": null,
   "metadata": {},
   "outputs": [],
   "source": [
    "import numpy as np \n",
    "import pandas as pd\n",
    "import tensorflow as tf\n",
    "from tensorflow.keras.optimizers import RMSprop"
   ]
  },
  {
   "cell_type": "markdown",
   "metadata": {},
   "source": [
    "# Making a Pandas Dataframe from the CSV Files"
   ]
  },
  {
   "cell_type": "code",
   "execution_count": null,
   "metadata": {},
   "outputs": [],
   "source": [
    "train_data = pd.read_csv('train.csv')\n",
    "print(train_data.shape)\n",
    "train_data.head()"
   ]
  },
  {
   "cell_type": "code",
   "execution_count": null,
   "metadata": {},
   "outputs": [],
   "source": []
  },
  {
   "cell_type": "markdown",
   "metadata": {},
   "source": [
    "# Splitting the Data and Labels"
   ]
  },
  {
   "cell_type": "code",
   "execution_count": null,
   "metadata": {},
   "outputs": [],
   "source": [
    "splitting_factor = 0.8\n",
    "\n",
    "x_train = train_data.iloc[ : int( len(x_train) * splitting_factor), 1 :]\n",
    "x_label = train_data.iloc[:int( len(x_train) * splitting_factor), :1]\n",
    "\n",
    "y_train = train_data.iloc[int( len(x_train) * splitting_factor):, 1:]\n",
    "y_label = train_data.iloc[int( len(x_train) * splitting_factor):, :1]"
   ]
  },
  {
   "cell_type": "markdown",
   "metadata": {},
   "source": [
    "# Converting Data into numpy arrays to feed it into the network "
   ]
  },
  {
   "cell_type": "code",
   "execution_count": null,
   "metadata": {},
   "outputs": [],
   "source": [
    "x_label_arr = x_label.to_numpy()\n",
    "x_label_arr = x_label_arr.flatten()\n",
    "\n",
    "y_label_arr = y_label.to_numpy()\n",
    "y_label_arr = y_label_arr.flatten()\n",
    "\n",
    "x_train = x_train.to_numpy()\n",
    "x_train = x_train.reshape(-1,28,28,1)\n",
    "x_train = np.pad(x_train, ((0,0), (2,2), (2, 2),(0,0)), 'constant')\n",
    "\n",
    "y_train = y_train.to_numpy()\n",
    "y_train = y_train.reshape(-1,28,28,1)\n",
    "y_train = np.pad(y_train, ((0,0), (2,2), (2, 2),(0,0)), 'constant')"
   ]
  },
  {
   "cell_type": "markdown",
   "metadata": {},
   "source": [
    "# One Hot Encoding the training Labels  "
   ]
  },
  {
   "cell_type": "code",
   "execution_count": null,
   "metadata": {},
   "outputs": [],
   "source": [
    "x_label_hot = np.zeros((x_label_arr.size, x_label_arr.max()+1))\n",
    "x_label_hot[np.arange(x_label_arr.size),x_label_arr] = 1\n",
    "\n",
    "y_label_hot = np.zeros((y_label_arr.size, y_label_arr.max()+1))\n",
    "y_label_hot[np.arange(y_label_arr.size),y_label_arr] = 1\n",
    "\n",
    "x_label_hot = x_label_hot.reshape(-1,1,1,10)\n",
    "y_label_hot = y_label_hot.reshape(-1,1,1,10)"
   ]
  },
  {
   "cell_type": "markdown",
   "metadata": {},
   "source": [
    "# Building the model"
   ]
  },
  {
   "cell_type": "markdown",
   "metadata": {},
   "source": [
    "Lenet 5"
   ]
  },
  {
   "cell_type": "code",
   "execution_count": null,
   "metadata": {},
   "outputs": [],
   "source": [
    "model = tf.keras.models.Sequential([\n",
    "            tf.keras.layers.Conv2D(filters = 6, kernel_size = (5,5), activation='relu', input_shape=(32, 32, 1)),\n",
    "            tf.keras.layers.MaxPooling2D(pool_size=(2, 2), strides=2),\n",
    "            tf.keras.layers.Conv2D(filters = 16, kernel_size = (5,5), activation='relu', input_shape=(14, 14, 6)),\n",
    "            tf.keras.layers.MaxPooling2D(pool_size=(2, 2), strides=2),\n",
    "            tf.keras.layers.Conv2D(filters = 120, kernel_size = (5,5), activation='relu', input_shape=(5 ,5 ,16)),\n",
    "            tf.keras.layers.Dense(84, activation=tf.nn.relu),\n",
    "            tf.keras.layers.Dense(10, activation=tf.nn.softmax)\n",
    "    ])\n",
    "\n",
    "model.compile(optimizer = tf.keras.optimizers.Adam(lr=1e-4), loss='categorical_crossentropy', metrics=['accuracy'])\n",
    "model.summary()"
   ]
  },
  {
   "cell_type": "code",
   "execution_count": null,
   "metadata": {},
   "outputs": [],
   "source": [
    "datagen = tf.keras.preprocessing.image.ImageDataGenerator(zoom_range = 0.1,\n",
    "                            height_shift_range = 0.1,\n",
    "                            width_shift_range = 0.1,\n",
    "                            rotation_range = 10)"
   ]
  },
  {
   "cell_type": "code",
   "execution_count": null,
   "metadata": {},
   "outputs": [],
   "source": [
    "annealer = tf.keras.callbacks.LearningRateScheduler(lambda x: 1e-3 * 0.9 ** x)"
   ]
  },
  {
   "cell_type": "code",
   "execution_count": null,
   "metadata": {},
   "outputs": [],
   "source": [
    "history = model.fit_generator(datagen.flow(x_train, x_label_hot, batch_size=16),\n",
    "                           steps_per_epoch=500,\n",
    "                           epochs=100, \n",
    "                           verbose=2,  \n",
    "                           validation_data=(y_train,y_label_hot), \n",
    "                           callbacks=[annealer])"
   ]
  },
  {
   "cell_type": "markdown",
   "metadata": {},
   "source": [
    "# Evaluating our Model"
   ]
  },
  {
   "cell_type": "code",
   "execution_count": null,
   "metadata": {},
   "outputs": [],
   "source": [
    "plt.plot(history.history['accuracy'])\n",
    "plt.plot(history.history['val_accuracy'])\n",
    "plt.title('model accuracy')\n",
    "plt.ylabel('accuracy')\n",
    "plt.xlabel('epoch')\n",
    "plt.legend(['train', 'test'], loc='upper left')\n",
    "plt.show()\n",
    "# summarize history for loss\n",
    "plt.plot(history.history['loss'])\n",
    "plt.plot(history.history['val_loss'])\n",
    "plt.title('model loss')\n",
    "plt.ylabel('loss')\n",
    "plt.xlabel('epoch')\n",
    "plt.legend(['train', 'test'], loc='upper left')\n",
    "plt.show()"
   ]
  },
  {
   "cell_type": "markdown",
   "metadata": {},
   "source": [
    "# Predicting some previously Unseen Digits"
   ]
  },
  {
   "cell_type": "code",
   "execution_count": null,
   "metadata": {},
   "outputs": [],
   "source": []
  }
 ],
 "metadata": {
  "kernelspec": {
   "display_name": "Python 3",
   "language": "python",
   "name": "python3"
  },
  "language_info": {
   "codemirror_mode": {
    "name": "ipython",
    "version": 3
   },
   "file_extension": ".py",
   "mimetype": "text/x-python",
   "name": "python",
   "nbconvert_exporter": "python",
   "pygments_lexer": "ipython3",
   "version": "3.6.8"
  }
 },
 "nbformat": 4,
 "nbformat_minor": 4
}
